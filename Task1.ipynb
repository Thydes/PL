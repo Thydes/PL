{
  "nbformat": 4,
  "nbformat_minor": 0,
  "metadata": {
    "colab": {
      "provenance": []
    },
    "kernelspec": {
      "name": "python3",
      "display_name": "Python 3"
    },
    "language_info": {
      "name": "python"
    }
  },
  "cells": [
    {
      "cell_type": "code",
      "execution_count": 35,
      "metadata": {
        "id": "h7iBK4DLSp7s",
        "colab": {
          "base_uri": "https://localhost:8080/"
        },
        "outputId": "5c2ab1bb-79fc-4d3e-99fd-dd95d5ae4995"
      },
      "outputs": [
        {
          "output_type": "stream",
          "name": "stdout",
          "text": [
            "Drive already mounted at /content/drive; to attempt to forcibly remount, call drive.mount(\"/content/drive\", force_remount=True).\n",
            "{'吳清山', '謝念慈', '何美瑤', '吳耀庭', '柯淑惠', '林文虎', '黃秀君', '余霖', '蔣佳良', '高靖岳', '江幸真', '廖坤鴻', '許綺雅', '陳景浪', '許順興', '曹詠喬', '劉晶晶', '陳生明', '曾文龍', '許庭嘉', '劉崇義', '蔡其瑞'}\n"
          ]
        }
      ],
      "source": [
        "from google.colab import drive\n",
        "drive.mount('/content/drive')\n",
        "\n",
        "import pandas as pd\n",
        "\n",
        "# 指定CSV文件的路徑，這裡以一個示例路徑為例\n",
        "csv_file_path_m1 = '/content/drive/My Drive/task/member1.csv'\n",
        "csv_file_path_m2 = '/content/drive/My Drive/task/member2.csv'\n",
        "\n",
        "# 使用Pandas讀取CSV文件\n",
        "df_m1 = pd.read_csv(csv_file_path_m1)\n",
        "df_m2 = pd.read_csv(csv_file_path_m2)\n",
        "\n",
        "# 從 DataFrame 中取出學生名稱欄位，假設欄位名稱為 '學生名稱'，你可以根據實際情況調整\n",
        "member_names_m1 = df_m1['姓名']\n",
        "member_names_m2 = df_m2['姓名']\n",
        "\n",
        "# 將學生名稱轉換為 set 資料型態\n",
        "member_names_m1_set = set(member_names_m1)\n",
        "member_names_m2_set = set(member_names_m2)\n",
        "\n",
        "#同時選了PECU的程式語言和網際網路概論的學生是哪幾位\n",
        "print( member_names_m1_set & member_names_m2_set )"
      ]
    }
  ]
}